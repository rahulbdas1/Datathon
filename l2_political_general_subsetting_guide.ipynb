{
  "nbformat": 4,
  "nbformat_minor": 0,
  "metadata": {
    "kernelspec": {
      "display_name": "Python 3",
      "language": "python",
      "name": "python3"
    },
    "language_info": {
      "codemirror_mode": {
        "name": "ipython",
        "version": 3
      },
      "file_extension": ".py",
      "mimetype": "text/x-python",
      "name": "python",
      "nbconvert_exporter": "python",
      "pygments_lexer": "ipython3",
      "version": "3.6.3"
    },
    "colab": {
      "name": "l2-political-general-subsetting-guide.ipynb",
      "provenance": [],
      "include_colab_link": true
    }
  },
  "cells": [
    {
      "cell_type": "markdown",
      "metadata": {
        "id": "view-in-github",
        "colab_type": "text"
      },
      "source": [
        "<a href=\"https://colab.research.google.com/github/rahulbdas1/Datathon/blob/main/l2_political_general_subsetting_guide.ipynb\" target=\"_parent\"><img src=\"https://colab.research.google.com/assets/colab-badge.svg\" alt=\"Open In Colab\"/></a>"
      ]
    },
    {
      "cell_type": "markdown",
      "metadata": {
        "id": "1s4XKf8fJM6j"
      },
      "source": [
        "<img align=\"right\" width=\"300\" src=\"https://data-services.hosting.nyu.edu/assets/libraries_short_color.png\" alt=\"NYU Libraries Logo\">\n",
        "\n",
        "# Guidance for working with L2 political data voter files\n",
        "\n",
        "**Overview:** The L2 Political files come in two parts for each state: Demographic indicators and Voter History. Both are .tab files (tab delimited) and will need to be extracted. It is likely that you'll need to use a command line tool to decompress each archive. \n",
        "\n",
        "For larger states, you will want to redact parts of these files by only loading the minimum number of variables that you need into memory, merge them together, then sample them in order to perform analysis.\n",
        "\n",
        "This notebook is designed to provide some guidance on working with the data and creating extracts in a memory-efficient manner. It uses Python Libraries that are included with the Anacondas distribution, with the exception of [Pyjanitor](https://pyjanitor.readthedocs.io/index.html). In order to install it, run\n",
        "\n",
        "`conda install pyjanitor -c conda-forge`\n",
        "\n",
        "The conda distribution here seems to work the best (as opposed to pip). See the documentation for each of these libraries (especially Pandas) for more information. You will need to restart your Kernel and notebook before proceeding if you haven't already installed Pyjanitor. \n",
        "\n",
        "Users are expected to have agreed to the Terms of Use and should create redacted versions of the data that strip out identifying information and load only variables that are important for analysis. For the latest documentation, visit the [L2 Political LibGuide](https://guides.nyu.edu/l2political)"
      ]
    },
    {
      "cell_type": "code",
      "metadata": {
        "id": "6CYRaOM2JSH0"
      },
      "source": [
        "pip install pyjanitor"
      ],
      "execution_count": null,
      "outputs": []
    },
    {
      "cell_type": "markdown",
      "metadata": {
        "id": "ac3wIab5JM6l"
      },
      "source": [
        "## I. Loading Python modules and L2 Data\n",
        "\n",
        "Begin by importing some basic libraries to work with the data "
      ]
    },
    {
      "cell_type": "code",
      "metadata": {
        "collapsed": true,
        "id": "YoWWP27kJM6l"
      },
      "source": [
        "import pandas as pd\n",
        "import janitor"
      ],
      "execution_count": null,
      "outputs": []
    },
    {
      "cell_type": "markdown",
      "metadata": {
        "id": "GnJW3syuJM6l"
      },
      "source": [
        "**Loading .tab files**\n",
        "\n",
        "First, we read in the .tab file of demographic variables, declare the tab as the separator, and set the encoding\n",
        "\n",
        "There are 646 columns in the demographic file, and it's better to set the datetype as string (labeled \"object\" in Pandas) for each of them and only load certian columns to cut down on memory usage.\n",
        "\n",
        "Declare the columns you want; see the codebook for the full list and don't take PID columns.\n"
      ]
    },
    {
      "cell_type": "code",
      "metadata": {
        "scrolled": true,
        "id": "hQoC-GSyJM6m",
        "outputId": "6fd5c6d1-b33b-4d63-d095-f2e0527d980e"
      },
      "source": [
        "selected_variables = ['LALVOTERID',\n",
        "                      'Residence_Addresses_Latitude',\n",
        "                      'Residence_Addresses_Longitude',\n",
        "                      'Voters_Gender',\n",
        "                      'Residence_Addresses_Zip',\n",
        "                      'Voters_Age',\n",
        "                      'Voters_BirthDate',\n",
        "                      'Parties_Description',\n",
        "                      'VoterParties_Change_Changed_Party',\n",
        "                      'Ethnic_Description',\n",
        "                      'EthnicGroups_EthnicGroup1Desc',\n",
        "                      'Religions_Description',\n",
        "                      'MaritalStatus_Description',\n",
        "                      'County',\n",
        "                      'CommercialData_Education',\n",
        "                      'CommercialData_EstimatedHHIncome',\n",
        "                      'CommercialData_EstimatedHHIncomeAmount',\n",
        "                      'CommercialDataLL_Gun_Owner']\n",
        "\n",
        "## Change the file path below accordingly to point toward the relevant file. Note that this data loading step below\n",
        "## will take the longest out of any step for your computer to process\n",
        "\n",
        "state_demographic = pd.read_csv('VM2--VA--2020-03-01-DEMOGRAPHIC.tab', \n",
        "                                sep='\\t', dtype=str, encoding='unicode_escape',\n",
        "                                usecols=selected_variables)\n",
        "\n",
        "## Preview of the first 5 rows of the data subset. \n",
        "\n",
        "state_demographic.head(5)"
      ],
      "execution_count": null,
      "outputs": [
        {
          "output_type": "execute_result",
          "data": {
            "text/html": [
              "<div>\n",
              "<style scoped>\n",
              "    .dataframe tbody tr th:only-of-type {\n",
              "        vertical-align: middle;\n",
              "    }\n",
              "\n",
              "    .dataframe tbody tr th {\n",
              "        vertical-align: top;\n",
              "    }\n",
              "\n",
              "    .dataframe thead th {\n",
              "        text-align: right;\n",
              "    }\n",
              "</style>\n",
              "<table border=\"1\" class=\"dataframe\">\n",
              "  <thead>\n",
              "    <tr style=\"text-align: right;\">\n",
              "      <th></th>\n",
              "      <th>LALVOTERID</th>\n",
              "      <th>Residence_Addresses_Latitude</th>\n",
              "      <th>Residence_Addresses_Longitude</th>\n",
              "      <th>Voters_Gender</th>\n",
              "      <th>Voters_FIPS</th>\n",
              "    </tr>\n",
              "  </thead>\n",
              "  <tbody>\n",
              "    <tr>\n",
              "      <th>0</th>\n",
              "      <td>LALVA167958824</td>\n",
              "      <td>37.901764</td>\n",
              "      <td>-75.505997</td>\n",
              "      <td>F</td>\n",
              "      <td>001</td>\n",
              "    </tr>\n",
              "    <tr>\n",
              "      <th>1</th>\n",
              "      <td>LALVA516951467</td>\n",
              "      <td>37.901764</td>\n",
              "      <td>-75.505997</td>\n",
              "      <td>M</td>\n",
              "      <td>001</td>\n",
              "    </tr>\n",
              "    <tr>\n",
              "      <th>2</th>\n",
              "      <td>LALVA462558999</td>\n",
              "      <td>37.901343</td>\n",
              "      <td>-75.566436</td>\n",
              "      <td>F</td>\n",
              "      <td>001</td>\n",
              "    </tr>\n",
              "    <tr>\n",
              "      <th>3</th>\n",
              "      <td>LALVA462552402</td>\n",
              "      <td>37.901343</td>\n",
              "      <td>-75.566436</td>\n",
              "      <td>M</td>\n",
              "      <td>001</td>\n",
              "    </tr>\n",
              "    <tr>\n",
              "      <th>4</th>\n",
              "      <td>LALVA4161517</td>\n",
              "      <td>37.807510</td>\n",
              "      <td>-75.607740</td>\n",
              "      <td>M</td>\n",
              "      <td>001</td>\n",
              "    </tr>\n",
              "  </tbody>\n",
              "</table>\n",
              "</div>"
            ],
            "text/plain": [
              "       LALVOTERID Residence_Addresses_Latitude Residence_Addresses_Longitude  \\\n",
              "0  LALVA167958824                    37.901764                    -75.505997   \n",
              "1  LALVA516951467                    37.901764                    -75.505997   \n",
              "2  LALVA462558999                    37.901343                    -75.566436   \n",
              "3  LALVA462552402                    37.901343                    -75.566436   \n",
              "4    LALVA4161517                    37.807510                    -75.607740   \n",
              "\n",
              "  Voters_Gender Voters_FIPS  \n",
              "0             F         001  \n",
              "1             M         001  \n",
              "2             F         001  \n",
              "3             M         001  \n",
              "4             M         001  "
            ]
          },
          "metadata": {
            "tags": []
          },
          "execution_count": 2
        }
      ]
    },
    {
      "cell_type": "markdown",
      "metadata": {
        "id": "DNcIcCVPJM6m"
      },
      "source": [
        "It's also not a bad idea to test the length of the entire file and verify it with the number of records on the documentation"
      ]
    },
    {
      "cell_type": "code",
      "metadata": {
        "scrolled": true,
        "id": "L14EHQsYJM6m",
        "outputId": "47ebcecd-7912-401e-9691-284dd498ea5a"
      },
      "source": [
        "len(state_demographic)"
      ],
      "execution_count": null,
      "outputs": [
        {
          "output_type": "execute_result",
          "data": {
            "text/plain": [
              "5264320"
            ]
          },
          "metadata": {
            "tags": []
          },
          "execution_count": 3
        }
      ]
    },
    {
      "cell_type": "markdown",
      "metadata": {
        "id": "CtWrTtklJM6n"
      },
      "source": [
        "You can also run .info to get a breakdown, including how much memory the data frame is eating up.\n",
        "\n",
        "This will give you context for how much your computer can handle."
      ]
    },
    {
      "cell_type": "code",
      "metadata": {
        "id": "Vgsalb4RJM6n",
        "outputId": "da29c55c-b0e7-49a9-8870-8bd65473f197"
      },
      "source": [
        "state_demographic.info()"
      ],
      "execution_count": null,
      "outputs": [
        {
          "output_type": "stream",
          "text": [
            "<class 'pandas.core.frame.DataFrame'>\n",
            "RangeIndex: 5264320 entries, 0 to 5264319\n",
            "Data columns (total 5 columns):\n",
            " #   Column                         Dtype \n",
            "---  ------                         ----- \n",
            " 0   LALVOTERID                     object\n",
            " 1   Residence_Addresses_Latitude   object\n",
            " 2   Residence_Addresses_Longitude  object\n",
            " 3   Voters_Gender                  object\n",
            " 4   Voters_FIPS                    object\n",
            "dtypes: object(5)\n",
            "memory usage: 200.8+ MB\n"
          ],
          "name": "stdout"
        }
      ]
    },
    {
      "cell_type": "markdown",
      "metadata": {
        "id": "6F1-vcP4JM6n"
      },
      "source": [
        "Next, we will read into memory the voter history file that corresponds to the state.\n",
        "\n",
        "This time, we make sure to include the *LALVOTERID* column, and we will add whether or not they voted in 2016."
      ]
    },
    {
      "cell_type": "code",
      "metadata": {
        "id": "pSfvar9aJM6o",
        "outputId": "90360f0c-46c7-4c84-8429-ffce67476e63"
      },
      "source": [
        "needed_variables = ['LALVOTERID', 'General_2016_11_08', 'General_2012_11_06', 'General_2008_11_04',]\n",
        "\n",
        "state_voterhistory = pd.read_csv('VM2--VA--2020-03-01-VOTEHISTORY.tab',\n",
        "                                 sep='\\t', dtype=str, encoding='unicode_escape',\n",
        "                                 usecols=needed_variables)\n",
        "                                \n",
        "state_voterhistory.head(5)"
      ],
      "execution_count": null,
      "outputs": [
        {
          "output_type": "execute_result",
          "data": {
            "text/html": [
              "<div>\n",
              "<style scoped>\n",
              "    .dataframe tbody tr th:only-of-type {\n",
              "        vertical-align: middle;\n",
              "    }\n",
              "\n",
              "    .dataframe tbody tr th {\n",
              "        vertical-align: top;\n",
              "    }\n",
              "\n",
              "    .dataframe thead th {\n",
              "        text-align: right;\n",
              "    }\n",
              "</style>\n",
              "<table border=\"1\" class=\"dataframe\">\n",
              "  <thead>\n",
              "    <tr style=\"text-align: right;\">\n",
              "      <th></th>\n",
              "      <th>LALVOTERID</th>\n",
              "      <th>General_2016_11_08</th>\n",
              "    </tr>\n",
              "  </thead>\n",
              "  <tbody>\n",
              "    <tr>\n",
              "      <th>0</th>\n",
              "      <td>LALVA167958824</td>\n",
              "      <td>Y</td>\n",
              "    </tr>\n",
              "    <tr>\n",
              "      <th>1</th>\n",
              "      <td>LALVA516951467</td>\n",
              "      <td>NaN</td>\n",
              "    </tr>\n",
              "    <tr>\n",
              "      <th>2</th>\n",
              "      <td>LALVA462558999</td>\n",
              "      <td>Y</td>\n",
              "    </tr>\n",
              "    <tr>\n",
              "      <th>3</th>\n",
              "      <td>LALVA462552402</td>\n",
              "      <td>Y</td>\n",
              "    </tr>\n",
              "    <tr>\n",
              "      <th>4</th>\n",
              "      <td>LALVA4161517</td>\n",
              "      <td>Y</td>\n",
              "    </tr>\n",
              "  </tbody>\n",
              "</table>\n",
              "</div>"
            ],
            "text/plain": [
              "       LALVOTERID General_2016_11_08\n",
              "0  LALVA167958824                  Y\n",
              "1  LALVA516951467                NaN\n",
              "2  LALVA462558999                  Y\n",
              "3  LALVA462552402                  Y\n",
              "4    LALVA4161517                  Y"
            ]
          },
          "metadata": {
            "tags": []
          },
          "execution_count": 5
        }
      ]
    },
    {
      "cell_type": "code",
      "metadata": {
        "id": "AF9aKT18JM6o",
        "outputId": "a2dcdfc1-0e99-40f9-a507-618a0a5522b2"
      },
      "source": [
        "## Again, I will want to run an .info command to test the size and memory\n",
        "\n",
        "state_voterhistory.info()"
      ],
      "execution_count": null,
      "outputs": [
        {
          "output_type": "stream",
          "text": [
            "<class 'pandas.core.frame.DataFrame'>\n",
            "RangeIndex: 5264320 entries, 0 to 5264319\n",
            "Data columns (total 2 columns):\n",
            " #   Column              Dtype \n",
            "---  ------              ----- \n",
            " 0   LALVOTERID          object\n",
            " 1   General_2016_11_08  object\n",
            "dtypes: object(2)\n",
            "memory usage: 80.3+ MB\n"
          ],
          "name": "stdout"
        }
      ]
    },
    {
      "cell_type": "markdown",
      "metadata": {
        "id": "JBQikqyiJM6o"
      },
      "source": [
        "## II. Join of Demographic and Voter History Tables\n",
        "\n",
        "Now that I have established a two reduced tables with a connection, I can join them (using the merge method in Pandas) based on the *LALVOTERID* common key\n"
      ]
    },
    {
      "cell_type": "code",
      "metadata": {
        "id": "r7vxxSYrJM6o",
        "outputId": "3a1b2148-56b9-4d9a-87c3-b78336d74591"
      },
      "source": [
        "merged_file = pd.merge(state_voterhistory, state_demographic,\n",
        "                       how='left', left_on='LALVOTERID', right_on='LALVOTERID')\n",
        "\n",
        "merged_file.head(5)"
      ],
      "execution_count": null,
      "outputs": [
        {
          "output_type": "execute_result",
          "data": {
            "text/html": [
              "<div>\n",
              "<style scoped>\n",
              "    .dataframe tbody tr th:only-of-type {\n",
              "        vertical-align: middle;\n",
              "    }\n",
              "\n",
              "    .dataframe tbody tr th {\n",
              "        vertical-align: top;\n",
              "    }\n",
              "\n",
              "    .dataframe thead th {\n",
              "        text-align: right;\n",
              "    }\n",
              "</style>\n",
              "<table border=\"1\" class=\"dataframe\">\n",
              "  <thead>\n",
              "    <tr style=\"text-align: right;\">\n",
              "      <th></th>\n",
              "      <th>LALVOTERID</th>\n",
              "      <th>General_2016_11_08</th>\n",
              "      <th>Residence_Addresses_Latitude</th>\n",
              "      <th>Residence_Addresses_Longitude</th>\n",
              "      <th>Voters_Gender</th>\n",
              "      <th>Voters_FIPS</th>\n",
              "    </tr>\n",
              "  </thead>\n",
              "  <tbody>\n",
              "    <tr>\n",
              "      <th>0</th>\n",
              "      <td>LALVA167958824</td>\n",
              "      <td>Y</td>\n",
              "      <td>37.901764</td>\n",
              "      <td>-75.505997</td>\n",
              "      <td>F</td>\n",
              "      <td>001</td>\n",
              "    </tr>\n",
              "    <tr>\n",
              "      <th>1</th>\n",
              "      <td>LALVA516951467</td>\n",
              "      <td>NaN</td>\n",
              "      <td>37.901764</td>\n",
              "      <td>-75.505997</td>\n",
              "      <td>M</td>\n",
              "      <td>001</td>\n",
              "    </tr>\n",
              "    <tr>\n",
              "      <th>2</th>\n",
              "      <td>LALVA462558999</td>\n",
              "      <td>Y</td>\n",
              "      <td>37.901343</td>\n",
              "      <td>-75.566436</td>\n",
              "      <td>F</td>\n",
              "      <td>001</td>\n",
              "    </tr>\n",
              "    <tr>\n",
              "      <th>3</th>\n",
              "      <td>LALVA462552402</td>\n",
              "      <td>Y</td>\n",
              "      <td>37.901343</td>\n",
              "      <td>-75.566436</td>\n",
              "      <td>M</td>\n",
              "      <td>001</td>\n",
              "    </tr>\n",
              "    <tr>\n",
              "      <th>4</th>\n",
              "      <td>LALVA4161517</td>\n",
              "      <td>Y</td>\n",
              "      <td>37.807510</td>\n",
              "      <td>-75.607740</td>\n",
              "      <td>M</td>\n",
              "      <td>001</td>\n",
              "    </tr>\n",
              "  </tbody>\n",
              "</table>\n",
              "</div>"
            ],
            "text/plain": [
              "       LALVOTERID General_2016_11_08 Residence_Addresses_Latitude  \\\n",
              "0  LALVA167958824                  Y                    37.901764   \n",
              "1  LALVA516951467                NaN                    37.901764   \n",
              "2  LALVA462558999                  Y                    37.901343   \n",
              "3  LALVA462552402                  Y                    37.901343   \n",
              "4    LALVA4161517                  Y                    37.807510   \n",
              "\n",
              "  Residence_Addresses_Longitude Voters_Gender Voters_FIPS  \n",
              "0                    -75.505997             F         001  \n",
              "1                    -75.505997             M         001  \n",
              "2                    -75.566436             F         001  \n",
              "3                    -75.566436             M         001  \n",
              "4                    -75.607740             M         001  "
            ]
          },
          "metadata": {
            "tags": []
          },
          "execution_count": 7
        }
      ]
    },
    {
      "cell_type": "markdown",
      "metadata": {
        "id": "V4xv7RBxJM6p"
      },
      "source": [
        "## III. Sampling the Records\n",
        "\n",
        "From here, you can sample the records. The frac argument is in percentage, so here, it's a two percent sample note that the sample function also guesses the dtype (which is proccess intensive) so it's better to do the sample after the final merge"
      ]
    },
    {
      "cell_type": "code",
      "metadata": {
        "scrolled": true,
        "id": "4jiiwvH1JM6p",
        "outputId": "5a6648c5-39eb-45f3-c169-b85fb3092e0c"
      },
      "source": [
        "state_sample = merged_file.sample(frac=0.02)\n",
        "\n",
        "state_sample.head(5)"
      ],
      "execution_count": null,
      "outputs": [
        {
          "output_type": "execute_result",
          "data": {
            "text/html": [
              "<div>\n",
              "<style scoped>\n",
              "    .dataframe tbody tr th:only-of-type {\n",
              "        vertical-align: middle;\n",
              "    }\n",
              "\n",
              "    .dataframe tbody tr th {\n",
              "        vertical-align: top;\n",
              "    }\n",
              "\n",
              "    .dataframe thead th {\n",
              "        text-align: right;\n",
              "    }\n",
              "</style>\n",
              "<table border=\"1\" class=\"dataframe\">\n",
              "  <thead>\n",
              "    <tr style=\"text-align: right;\">\n",
              "      <th></th>\n",
              "      <th>LALVOTERID</th>\n",
              "      <th>General_2016_11_08</th>\n",
              "      <th>Residence_Addresses_Latitude</th>\n",
              "      <th>Residence_Addresses_Longitude</th>\n",
              "      <th>Voters_Gender</th>\n",
              "      <th>Voters_FIPS</th>\n",
              "    </tr>\n",
              "  </thead>\n",
              "  <tbody>\n",
              "    <tr>\n",
              "      <th>4506497</th>\n",
              "      <td>LALVA4381855</td>\n",
              "      <td>Y</td>\n",
              "      <td>36.861190</td>\n",
              "      <td>-76.266420</td>\n",
              "      <td>F</td>\n",
              "      <td>710</td>\n",
              "    </tr>\n",
              "    <tr>\n",
              "      <th>3220820</th>\n",
              "      <td>LALVA1954212</td>\n",
              "      <td>Y</td>\n",
              "      <td>37.228351</td>\n",
              "      <td>-79.976485</td>\n",
              "      <td>M</td>\n",
              "      <td>161</td>\n",
              "    </tr>\n",
              "    <tr>\n",
              "      <th>745576</th>\n",
              "      <td>LALVA738960</td>\n",
              "      <td>Y</td>\n",
              "      <td>37.509310</td>\n",
              "      <td>-77.649680</td>\n",
              "      <td>M</td>\n",
              "      <td>041</td>\n",
              "    </tr>\n",
              "    <tr>\n",
              "      <th>2152787</th>\n",
              "      <td>LALVA471745169</td>\n",
              "      <td>Y</td>\n",
              "      <td>36.985720</td>\n",
              "      <td>-76.612630</td>\n",
              "      <td>M</td>\n",
              "      <td>093</td>\n",
              "    </tr>\n",
              "    <tr>\n",
              "      <th>3196996</th>\n",
              "      <td>LALVA398865370</td>\n",
              "      <td>NaN</td>\n",
              "      <td>37.241560</td>\n",
              "      <td>-79.995220</td>\n",
              "      <td>M</td>\n",
              "      <td>161</td>\n",
              "    </tr>\n",
              "  </tbody>\n",
              "</table>\n",
              "</div>"
            ],
            "text/plain": [
              "             LALVOTERID General_2016_11_08 Residence_Addresses_Latitude  \\\n",
              "4506497    LALVA4381855                  Y                    36.861190   \n",
              "3220820    LALVA1954212                  Y                    37.228351   \n",
              "745576      LALVA738960                  Y                    37.509310   \n",
              "2152787  LALVA471745169                  Y                    36.985720   \n",
              "3196996  LALVA398865370                NaN                    37.241560   \n",
              "\n",
              "        Residence_Addresses_Longitude Voters_Gender Voters_FIPS  \n",
              "4506497                    -76.266420             F         710  \n",
              "3220820                    -79.976485             M         161  \n",
              "745576                     -77.649680             M         041  \n",
              "2152787                    -76.612630             M         093  \n",
              "3196996                    -79.995220             M         161  "
            ]
          },
          "metadata": {
            "tags": []
          },
          "execution_count": 8
        }
      ]
    },
    {
      "cell_type": "markdown",
      "metadata": {
        "id": "jHX9Bb4pJM6p"
      },
      "source": [
        "Again, print out the info to see that its a valid sample size (actually one percent) and that it is using much less memory\n",
        "\n",
        "You'll know that the sampling worked if the index numbers are nonsequential and random also, you can test the length and info of your new sample"
      ]
    },
    {
      "cell_type": "code",
      "metadata": {
        "id": "vcgmCdUkJM6p",
        "outputId": "80904071-c58a-43c9-a439-5cee08cb7b9f"
      },
      "source": [
        "state_sample.info()"
      ],
      "execution_count": null,
      "outputs": [
        {
          "output_type": "stream",
          "text": [
            "<class 'pandas.core.frame.DataFrame'>\n",
            "Int64Index: 52643 entries, 4506497 to 2917779\n",
            "Data columns (total 6 columns):\n",
            " #   Column                         Non-Null Count  Dtype \n",
            "---  ------                         --------------  ----- \n",
            " 0   LALVOTERID                     52643 non-null  object\n",
            " 1   General_2016_11_08             36531 non-null  object\n",
            " 2   Residence_Addresses_Latitude   52639 non-null  object\n",
            " 3   Residence_Addresses_Longitude  52639 non-null  object\n",
            " 4   Voters_Gender                  52643 non-null  object\n",
            " 5   Voters_FIPS                    52643 non-null  object\n",
            "dtypes: object(6)\n",
            "memory usage: 2.8+ MB\n"
          ],
          "name": "stdout"
        }
      ]
    },
    {
      "cell_type": "markdown",
      "metadata": {
        "id": "oKpXndw6JM6q"
      },
      "source": [
        "## IV. Further Deidentifying Geocoded Locations: Jittering\n",
        "\n",
        "There are many other filtering and cleaning steps to be taken before writing out a new file\n",
        "\n",
        "For example, the coordinates can be identifying, even if you strip out all of the other PID variables, because they are geocoded to the address. You will want to jitter them if you intend to aggregate or visualize data.\n",
        "\n",
        "First, print out the data types to make sure what they are:"
      ]
    },
    {
      "cell_type": "code",
      "metadata": {
        "id": "EZRZ0NRSJM6q",
        "outputId": "cc627a12-8440-4c12-f2d4-44993ee9ab59"
      },
      "source": [
        "state_sample.dtypes"
      ],
      "execution_count": null,
      "outputs": [
        {
          "output_type": "execute_result",
          "data": {
            "text/plain": [
              "LALVOTERID                       object\n",
              "General_2016_11_08               object\n",
              "Residence_Addresses_Latitude     object\n",
              "Residence_Addresses_Longitude    object\n",
              "Voters_Gender                    object\n",
              "Voters_FIPS                      object\n",
              "dtype: object"
            ]
          },
          "metadata": {
            "tags": []
          },
          "execution_count": 10
        }
      ]
    },
    {
      "cell_type": "code",
      "metadata": {
        "id": "cT4m8aKeJM6q",
        "outputId": "65260d92-d429-4565-c0e8-3beaa865ded0"
      },
      "source": [
        "## In order to jitter the coordinates, you need to change them to a float\n",
        "\n",
        "state_sample['Residence_Addresses_Latitude'] = pd.to_numeric(state_sample['Residence_Addresses_Latitude']) \n",
        "state_sample['Residence_Addresses_Longitude'] = pd.to_numeric(state_sample['Residence_Addresses_Longitude']) \n",
        "\n",
        "state_sample.dtypes"
      ],
      "execution_count": null,
      "outputs": [
        {
          "output_type": "execute_result",
          "data": {
            "text/plain": [
              "LALVOTERID                        object\n",
              "General_2016_11_08                object\n",
              "Residence_Addresses_Latitude     float64\n",
              "Residence_Addresses_Longitude    float64\n",
              "Voters_Gender                     object\n",
              "Voters_FIPS                       object\n",
              "dtype: object"
            ]
          },
          "metadata": {
            "tags": []
          },
          "execution_count": 11
        }
      ]
    },
    {
      "cell_type": "markdown",
      "metadata": {
        "id": "ASxjxh7fJM6q"
      },
      "source": [
        "The module pyjanitor introduces a jitter method for dataframes that can be used to displace the exact coordinates of a location.\n",
        "\n",
        "We'll start with jittering the latitude. This library inserts a Gaussian distribution (\"noise\") equal to the standard deviation of the scale. The exact amount of the scale in jitter may need to change but this is a good starting place. You may want to test the results in a mapping software like QGIS or ArcMap before proceeding too far"
      ]
    },
    {
      "cell_type": "code",
      "metadata": {
        "id": "UBtbnmj-JM6s",
        "outputId": "c0c71184-8b52-4e31-cb82-f528983c985f"
      },
      "source": [
        "jittered_lat = state_sample.jitter(\n",
        "    column_name='Residence_Addresses_Latitude',\n",
        "    dest_column_name='lat_jitter',\n",
        "    scale=0.05,\n",
        "    clip=None,\n",
        "    random_state=None,\n",
        ")\n",
        "\n",
        "jittered_lat.head(5)"
      ],
      "execution_count": null,
      "outputs": [
        {
          "output_type": "execute_result",
          "data": {
            "text/html": [
              "<div>\n",
              "<style scoped>\n",
              "    .dataframe tbody tr th:only-of-type {\n",
              "        vertical-align: middle;\n",
              "    }\n",
              "\n",
              "    .dataframe tbody tr th {\n",
              "        vertical-align: top;\n",
              "    }\n",
              "\n",
              "    .dataframe thead th {\n",
              "        text-align: right;\n",
              "    }\n",
              "</style>\n",
              "<table border=\"1\" class=\"dataframe\">\n",
              "  <thead>\n",
              "    <tr style=\"text-align: right;\">\n",
              "      <th></th>\n",
              "      <th>LALVOTERID</th>\n",
              "      <th>General_2016_11_08</th>\n",
              "      <th>Residence_Addresses_Latitude</th>\n",
              "      <th>Residence_Addresses_Longitude</th>\n",
              "      <th>Voters_Gender</th>\n",
              "      <th>Voters_FIPS</th>\n",
              "      <th>lat_jitter</th>\n",
              "    </tr>\n",
              "  </thead>\n",
              "  <tbody>\n",
              "    <tr>\n",
              "      <th>4506497</th>\n",
              "      <td>LALVA4381855</td>\n",
              "      <td>Y</td>\n",
              "      <td>36.861190</td>\n",
              "      <td>-76.266420</td>\n",
              "      <td>F</td>\n",
              "      <td>710</td>\n",
              "      <td>36.810290</td>\n",
              "    </tr>\n",
              "    <tr>\n",
              "      <th>3220820</th>\n",
              "      <td>LALVA1954212</td>\n",
              "      <td>Y</td>\n",
              "      <td>37.228351</td>\n",
              "      <td>-79.976485</td>\n",
              "      <td>M</td>\n",
              "      <td>161</td>\n",
              "      <td>37.255338</td>\n",
              "    </tr>\n",
              "    <tr>\n",
              "      <th>745576</th>\n",
              "      <td>LALVA738960</td>\n",
              "      <td>Y</td>\n",
              "      <td>37.509310</td>\n",
              "      <td>-77.649680</td>\n",
              "      <td>M</td>\n",
              "      <td>041</td>\n",
              "      <td>37.505897</td>\n",
              "    </tr>\n",
              "    <tr>\n",
              "      <th>2152787</th>\n",
              "      <td>LALVA471745169</td>\n",
              "      <td>Y</td>\n",
              "      <td>36.985720</td>\n",
              "      <td>-76.612630</td>\n",
              "      <td>M</td>\n",
              "      <td>093</td>\n",
              "      <td>36.955577</td>\n",
              "    </tr>\n",
              "    <tr>\n",
              "      <th>3196996</th>\n",
              "      <td>LALVA398865370</td>\n",
              "      <td>NaN</td>\n",
              "      <td>37.241560</td>\n",
              "      <td>-79.995220</td>\n",
              "      <td>M</td>\n",
              "      <td>161</td>\n",
              "      <td>37.181218</td>\n",
              "    </tr>\n",
              "  </tbody>\n",
              "</table>\n",
              "</div>"
            ],
            "text/plain": [
              "             LALVOTERID General_2016_11_08  Residence_Addresses_Latitude  \\\n",
              "4506497    LALVA4381855                  Y                     36.861190   \n",
              "3220820    LALVA1954212                  Y                     37.228351   \n",
              "745576      LALVA738960                  Y                     37.509310   \n",
              "2152787  LALVA471745169                  Y                     36.985720   \n",
              "3196996  LALVA398865370                NaN                     37.241560   \n",
              "\n",
              "         Residence_Addresses_Longitude Voters_Gender Voters_FIPS  lat_jitter  \n",
              "4506497                     -76.266420             F         710   36.810290  \n",
              "3220820                     -79.976485             M         161   37.255338  \n",
              "745576                      -77.649680             M         041   37.505897  \n",
              "2152787                     -76.612630             M         093   36.955577  \n",
              "3196996                     -79.995220             M         161   37.181218  "
            ]
          },
          "metadata": {
            "tags": []
          },
          "execution_count": 12
        }
      ]
    },
    {
      "cell_type": "code",
      "metadata": {
        "scrolled": true,
        "id": "LvYJdimCJM6s",
        "outputId": "2017d72b-c524-4a27-e0c1-aa9b197d95b4"
      },
      "source": [
        "## Now we jitter the longitude\n",
        "\n",
        "jittered_long = state_sample.jitter(\n",
        "    column_name='Residence_Addresses_Longitude',\n",
        "    dest_column_name='long_jitter',\n",
        "    scale=0.05,\n",
        "    clip=None,\n",
        "    random_state=None,\n",
        ")\n",
        "\n",
        "jittered_long.head(5)"
      ],
      "execution_count": null,
      "outputs": [
        {
          "output_type": "execute_result",
          "data": {
            "text/html": [
              "<div>\n",
              "<style scoped>\n",
              "    .dataframe tbody tr th:only-of-type {\n",
              "        vertical-align: middle;\n",
              "    }\n",
              "\n",
              "    .dataframe tbody tr th {\n",
              "        vertical-align: top;\n",
              "    }\n",
              "\n",
              "    .dataframe thead th {\n",
              "        text-align: right;\n",
              "    }\n",
              "</style>\n",
              "<table border=\"1\" class=\"dataframe\">\n",
              "  <thead>\n",
              "    <tr style=\"text-align: right;\">\n",
              "      <th></th>\n",
              "      <th>LALVOTERID</th>\n",
              "      <th>General_2016_11_08</th>\n",
              "      <th>Residence_Addresses_Latitude</th>\n",
              "      <th>Residence_Addresses_Longitude</th>\n",
              "      <th>Voters_Gender</th>\n",
              "      <th>Voters_FIPS</th>\n",
              "      <th>lat_jitter</th>\n",
              "      <th>long_jitter</th>\n",
              "    </tr>\n",
              "  </thead>\n",
              "  <tbody>\n",
              "    <tr>\n",
              "      <th>4506497</th>\n",
              "      <td>LALVA4381855</td>\n",
              "      <td>Y</td>\n",
              "      <td>36.861190</td>\n",
              "      <td>-76.266420</td>\n",
              "      <td>F</td>\n",
              "      <td>710</td>\n",
              "      <td>36.810290</td>\n",
              "      <td>-76.255566</td>\n",
              "    </tr>\n",
              "    <tr>\n",
              "      <th>3220820</th>\n",
              "      <td>LALVA1954212</td>\n",
              "      <td>Y</td>\n",
              "      <td>37.228351</td>\n",
              "      <td>-79.976485</td>\n",
              "      <td>M</td>\n",
              "      <td>161</td>\n",
              "      <td>37.255338</td>\n",
              "      <td>-80.044706</td>\n",
              "    </tr>\n",
              "    <tr>\n",
              "      <th>745576</th>\n",
              "      <td>LALVA738960</td>\n",
              "      <td>Y</td>\n",
              "      <td>37.509310</td>\n",
              "      <td>-77.649680</td>\n",
              "      <td>M</td>\n",
              "      <td>041</td>\n",
              "      <td>37.505897</td>\n",
              "      <td>-77.576737</td>\n",
              "    </tr>\n",
              "    <tr>\n",
              "      <th>2152787</th>\n",
              "      <td>LALVA471745169</td>\n",
              "      <td>Y</td>\n",
              "      <td>36.985720</td>\n",
              "      <td>-76.612630</td>\n",
              "      <td>M</td>\n",
              "      <td>093</td>\n",
              "      <td>36.955577</td>\n",
              "      <td>-76.638565</td>\n",
              "    </tr>\n",
              "    <tr>\n",
              "      <th>3196996</th>\n",
              "      <td>LALVA398865370</td>\n",
              "      <td>NaN</td>\n",
              "      <td>37.241560</td>\n",
              "      <td>-79.995220</td>\n",
              "      <td>M</td>\n",
              "      <td>161</td>\n",
              "      <td>37.181218</td>\n",
              "      <td>-79.913420</td>\n",
              "    </tr>\n",
              "  </tbody>\n",
              "</table>\n",
              "</div>"
            ],
            "text/plain": [
              "             LALVOTERID General_2016_11_08  Residence_Addresses_Latitude  \\\n",
              "4506497    LALVA4381855                  Y                     36.861190   \n",
              "3220820    LALVA1954212                  Y                     37.228351   \n",
              "745576      LALVA738960                  Y                     37.509310   \n",
              "2152787  LALVA471745169                  Y                     36.985720   \n",
              "3196996  LALVA398865370                NaN                     37.241560   \n",
              "\n",
              "         Residence_Addresses_Longitude Voters_Gender Voters_FIPS  lat_jitter  \\\n",
              "4506497                     -76.266420             F         710   36.810290   \n",
              "3220820                     -79.976485             M         161   37.255338   \n",
              "745576                      -77.649680             M         041   37.505897   \n",
              "2152787                     -76.612630             M         093   36.955577   \n",
              "3196996                     -79.995220             M         161   37.181218   \n",
              "\n",
              "         long_jitter  \n",
              "4506497   -76.255566  \n",
              "3220820   -80.044706  \n",
              "745576    -77.576737  \n",
              "2152787   -76.638565  \n",
              "3196996   -79.913420  "
            ]
          },
          "metadata": {
            "tags": []
          },
          "execution_count": 13
        }
      ]
    },
    {
      "cell_type": "markdown",
      "metadata": {
        "id": "GeidWwitJM6t"
      },
      "source": [
        "To complete the jittering process, make sure you drop off the actual Residence_Addresses columns.\n",
        "\n",
        "With this last dataframe, you should have a one percent sample that has jittered lat long coordinates, voter gender, whether or not they voted in 2016, and their unique ID:\n"
      ]
    },
    {
      "cell_type": "code",
      "metadata": {
        "id": "Izsw7MqAJM6t",
        "outputId": "8b0b1e54-ee68-40aa-ed62-873b93e76460"
      },
      "source": [
        "stripped_sample = jittered_long.drop(columns=['Residence_Addresses_Latitude', 'Residence_Addresses_Longitude'])\n",
        "\n",
        "stripped_sample.head(5)"
      ],
      "execution_count": null,
      "outputs": [
        {
          "output_type": "execute_result",
          "data": {
            "text/html": [
              "<div>\n",
              "<style scoped>\n",
              "    .dataframe tbody tr th:only-of-type {\n",
              "        vertical-align: middle;\n",
              "    }\n",
              "\n",
              "    .dataframe tbody tr th {\n",
              "        vertical-align: top;\n",
              "    }\n",
              "\n",
              "    .dataframe thead th {\n",
              "        text-align: right;\n",
              "    }\n",
              "</style>\n",
              "<table border=\"1\" class=\"dataframe\">\n",
              "  <thead>\n",
              "    <tr style=\"text-align: right;\">\n",
              "      <th></th>\n",
              "      <th>LALVOTERID</th>\n",
              "      <th>General_2016_11_08</th>\n",
              "      <th>Voters_Gender</th>\n",
              "      <th>Voters_FIPS</th>\n",
              "      <th>lat_jitter</th>\n",
              "      <th>long_jitter</th>\n",
              "    </tr>\n",
              "  </thead>\n",
              "  <tbody>\n",
              "    <tr>\n",
              "      <th>4506497</th>\n",
              "      <td>LALVA4381855</td>\n",
              "      <td>Y</td>\n",
              "      <td>F</td>\n",
              "      <td>710</td>\n",
              "      <td>36.810290</td>\n",
              "      <td>-76.255566</td>\n",
              "    </tr>\n",
              "    <tr>\n",
              "      <th>3220820</th>\n",
              "      <td>LALVA1954212</td>\n",
              "      <td>Y</td>\n",
              "      <td>M</td>\n",
              "      <td>161</td>\n",
              "      <td>37.255338</td>\n",
              "      <td>-80.044706</td>\n",
              "    </tr>\n",
              "    <tr>\n",
              "      <th>745576</th>\n",
              "      <td>LALVA738960</td>\n",
              "      <td>Y</td>\n",
              "      <td>M</td>\n",
              "      <td>041</td>\n",
              "      <td>37.505897</td>\n",
              "      <td>-77.576737</td>\n",
              "    </tr>\n",
              "    <tr>\n",
              "      <th>2152787</th>\n",
              "      <td>LALVA471745169</td>\n",
              "      <td>Y</td>\n",
              "      <td>M</td>\n",
              "      <td>093</td>\n",
              "      <td>36.955577</td>\n",
              "      <td>-76.638565</td>\n",
              "    </tr>\n",
              "    <tr>\n",
              "      <th>3196996</th>\n",
              "      <td>LALVA398865370</td>\n",
              "      <td>NaN</td>\n",
              "      <td>M</td>\n",
              "      <td>161</td>\n",
              "      <td>37.181218</td>\n",
              "      <td>-79.913420</td>\n",
              "    </tr>\n",
              "  </tbody>\n",
              "</table>\n",
              "</div>"
            ],
            "text/plain": [
              "             LALVOTERID General_2016_11_08 Voters_Gender Voters_FIPS  \\\n",
              "4506497    LALVA4381855                  Y             F         710   \n",
              "3220820    LALVA1954212                  Y             M         161   \n",
              "745576      LALVA738960                  Y             M         041   \n",
              "2152787  LALVA471745169                  Y             M         093   \n",
              "3196996  LALVA398865370                NaN             M         161   \n",
              "\n",
              "         lat_jitter  long_jitter  \n",
              "4506497   36.810290   -76.255566  \n",
              "3220820   37.255338   -80.044706  \n",
              "745576    37.505897   -77.576737  \n",
              "2152787   36.955577   -76.638565  \n",
              "3196996   37.181218   -79.913420  "
            ]
          },
          "metadata": {
            "tags": []
          },
          "execution_count": 14
        }
      ]
    },
    {
      "cell_type": "markdown",
      "metadata": {
        "id": "jBM_EJnnJ_Yt"
      },
      "source": [
        "## V. Encrypting the VoterIDs\n",
        "\n",
        "Next, we are going to encrypt Voter IDs by passing them through an encrypt function. The one we wrote was a simple Caesar Cipher, however it can be replaced with any encryption function. "
      ]
    },
    {
      "cell_type": "code",
      "metadata": {
        "id": "fKv_mGl6KwhC"
      },
      "source": [
        "def encrypt(text,s):\n",
        "  result = \"\"\n",
        "  for i in range(len(text)):\n",
        "    char = text[i]\n",
        "    if (char.isupper()):\n",
        "      result += chr((ord(char) + s - 43) % 26 + 43)\n",
        "    else:\n",
        "      result += chr((ord(char) + s - 96) % 26 + 96)\n",
        "  return result\n",
        "\n",
        "stripped_sample['LALVOTERID'] = stripped_sample['LALVOTERID'].astype('string')\n",
        "\n",
        "s = 17 # can be changed\n",
        "for row in stripped_sample['LALVOTERID']:\n",
        "  stripped_sample.loc[stripped_sample['LALVOTERID'] == row, 'LALVOTERID'] = encrypt(row,s)\n",
        "\n",
        "stripped_sample.head(5)"
      ],
      "execution_count": null,
      "outputs": []
    },
    {
      "cell_type": "markdown",
      "metadata": {
        "id": "nbhc001uLIcI"
      },
      "source": [
        "## VI. Removing Date from Birthday\n",
        "Because birthdays can be pretty identifying, we decided it would be best to remove the specific date from the birthday. Instead of keeping the birthday as MM/DD/YYYY we will convert it to just MM/YYYY."
      ]
    },
    {
      "cell_type": "code",
      "metadata": {
        "id": "SnMwc2w5LctA"
      },
      "source": [
        "def extractDate(date):\n",
        "  result = \"\"\n",
        "  result += date[0:3]\n",
        "  result += date[6:10]\n",
        "  return result\n",
        "\n",
        "stripped_sample['Voters_BirthDate'] = stripped_sample['Voters_BirthDate'].astype('string')\n",
        "\n",
        "for row in stripped_sample['Voters_BirthDate']:\n",
        "  try: \n",
        "    if len(row) == 10:\n",
        "      stripped_sample.loc[stripped_sample['Voters_BirthDate'] == row, 'Voters_BirthDate'] = extractDate(row)\n",
        "  except:\n",
        "    continue\n",
        "\n",
        "stripped_sample.head(5)"
      ],
      "execution_count": null,
      "outputs": []
    },
    {
      "cell_type": "markdown",
      "metadata": {
        "id": "_eJXV1EaJM6u"
      },
      "source": [
        "## VII. Saving the Resulting Dataframe to a CSV\n",
        "\n",
        "Finally, you may want to write out the sample to a CSV, leaving out the index that Pandas creates and stipulating the encoding into utf-8 *italicized text*"
      ]
    },
    {
      "cell_type": "code",
      "metadata": {
        "collapsed": true,
        "id": "qJORKPwNJM6u"
      },
      "source": [
        "stripped_sample.to_csv(r'alaska-twopercent-sample.csv', index=False, encoding='utf-8')"
      ],
      "execution_count": null,
      "outputs": []
    },
    {
      "cell_type": "markdown",
      "metadata": {
        "id": "Gea3euz6JM6u"
      },
      "source": [
        "In the course of your analysis, you may want to repeat this process for multiple states and/or develop an aggregate roster of voters culled from a subset. You are encouraged to visit the tools section on the [L2 Political LibGuide at NYU Libraries](https://guides.nyu.edu/l2political/tools).\n",
        "\n",
        "In general, you should have a data management plan with these files that includes the following elements:\n",
        "\n",
        "- Secure any original .tab files you've downloaded by storing them in a single directory location, and then deleting the original .tab files once you've generated extracts\n",
        "- Manage your extracted samples in a secure environment\n",
        "\n",
        "Simple scripts and suggestions are available on the L2 Political LibGuide. \n"
      ]
    }
  ]
}